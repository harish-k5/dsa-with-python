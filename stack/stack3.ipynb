{
 "cells": [
  {
   "cell_type": "code",
   "execution_count": 1,
   "id": "bdebe6e0",
   "metadata": {},
   "outputs": [
    {
     "name": "stdout",
     "output_type": "stream",
     "text": [
      "Infix: ((a+b)*c)\n"
     ]
    }
   ],
   "source": [
    "def postfix_to_infix(expression):\n",
    "    stack = []\n",
    "    for char in expression:\n",
    "        if char.isalnum():  # operand\n",
    "            stack.append(char)\n",
    "        else:  # operator\n",
    "            op2 = stack.pop()\n",
    "            op1 = stack.pop()\n",
    "            stack.append(f\"({op1}{char}{op2})\")\n",
    "    return stack[-1]\n",
    "\n",
    "# Example:\n",
    "exp = \"ab+c*\"\n",
    "print(\"Infix:\", postfix_to_infix(exp))  # ((a+b)*c)\n"
   ]
  },
  {
   "cell_type": "code",
   "execution_count": 2,
   "id": "5dbbdd7b",
   "metadata": {},
   "outputs": [
    {
     "name": "stdout",
     "output_type": "stream",
     "text": [
      "Prefix: *+abc\n"
     ]
    }
   ],
   "source": [
    "def postfix_to_prefix(expression):\n",
    "    stack = []\n",
    "    for char in expression:\n",
    "        if char.isalnum():\n",
    "            stack.append(char)\n",
    "        else:\n",
    "            op2 = stack.pop()\n",
    "            op1 = stack.pop()\n",
    "            stack.append(char + op1 + op2)\n",
    "    return stack[-1]\n",
    "\n",
    "# Example:\n",
    "exp = \"ab+c*\"\n",
    "print(\"Prefix:\", postfix_to_prefix(exp))  # *+abc\n"
   ]
  },
  {
   "cell_type": "code",
   "execution_count": 3,
   "id": "972c7656",
   "metadata": {},
   "outputs": [
    {
     "name": "stdout",
     "output_type": "stream",
     "text": [
      "Postfix: ab+c*\n"
     ]
    }
   ],
   "source": [
    "def prefix_to_postfix(expression):\n",
    "    stack = []\n",
    "    for char in reversed(expression):\n",
    "        if char.isalnum():\n",
    "            stack.append(char)\n",
    "        else:\n",
    "            op1 = stack.pop()\n",
    "            op2 = stack.pop()\n",
    "            stack.append(op1 + op2 + char)\n",
    "    return stack[-1]\n",
    "\n",
    "# Example:\n",
    "exp = \"*+abc\"\n",
    "print(\"Postfix:\", prefix_to_postfix(exp))  # ab+c*\n"
   ]
  },
  {
   "cell_type": "code",
   "execution_count": 4,
   "id": "987ac6f3",
   "metadata": {},
   "outputs": [
    {
     "name": "stdout",
     "output_type": "stream",
     "text": [
      "20\n"
     ]
    }
   ],
   "source": [
    "class MultiStack:\n",
    "    def __init__(self, num_stacks, stack_size):\n",
    "        self.num_stacks = num_stacks\n",
    "        self.stack_size = stack_size\n",
    "        self.values = [None] * (num_stacks * stack_size)\n",
    "        self.sizes = [0] * num_stacks\n",
    "\n",
    "    def index_of_top(self, stack_num):\n",
    "        offset = stack_num * self.stack_size\n",
    "        return offset + self.sizes[stack_num] - 1\n",
    "\n",
    "    def push(self, stack_num, value):\n",
    "        if self.sizes[stack_num] >= self.stack_size:\n",
    "            raise Exception(\"Stack Overflow\")\n",
    "        self.sizes[stack_num] += 1\n",
    "        self.values[self.index_of_top(stack_num)] = value\n",
    "\n",
    "    def pop(self, stack_num):\n",
    "        if self.sizes[stack_num] == 0:\n",
    "            raise Exception(\"Stack Underflow\")\n",
    "        top_index = self.index_of_top(stack_num)\n",
    "        value = self.values[top_index]\n",
    "        self.values[top_index] = None\n",
    "        self.sizes[stack_num] -= 1\n",
    "        return value\n",
    "\n",
    "    def peek(self, stack_num):\n",
    "        return self.values[self.index_of_top(stack_num)]\n",
    "\n",
    "# Example usage:\n",
    "stacks = MultiStack(3, 5)\n",
    "stacks.push(0, 10)\n",
    "stacks.push(1, 20)\n",
    "stacks.push(2, 30)\n",
    "print(stacks.pop(1))  # 20\n"
   ]
  },
  {
   "cell_type": "code",
   "execution_count": null,
   "id": "9f01e24f",
   "metadata": {},
   "outputs": [],
   "source": []
  }
 ],
 "metadata": {
  "kernelspec": {
   "display_name": "Python 3",
   "language": "python",
   "name": "python3"
  },
  "language_info": {
   "codemirror_mode": {
    "name": "ipython",
    "version": 3
   },
   "file_extension": ".py",
   "mimetype": "text/x-python",
   "name": "python",
   "nbconvert_exporter": "python",
   "pygments_lexer": "ipython3",
   "version": "3.12.6"
  }
 },
 "nbformat": 4,
 "nbformat_minor": 5
}
