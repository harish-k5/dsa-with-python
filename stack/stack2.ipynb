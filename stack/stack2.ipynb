{
 "cells": [
  {
   "cell_type": "code",
   "execution_count": null,
   "id": "bdebe6e0",
   "metadata": {},
   "outputs": [
    {
     "name": "stdout",
     "output_type": "stream",
     "text": [
      "Infix: ((a+b)*c)\n"
     ]
    }
   ],
   "source": [
    "def first_mismatch_position(s):\n",
    "    stack = []\n",
    "    for i, char in enumerate(s):\n",
    "        if char == '(':\n",
    "            stack.append(i)\n",
    "        elif char == ')':\n",
    "            if stack:\n",
    "                stack.pop()\n",
    "            else:\n",
    "                return i  # extra closing parenthesis\n",
    "    if stack:\n",
    "        return stack[0]  # index of unmatched opening\n",
    "    return -1\n",
    "\n",
    "# Example:\n",
    "print(first_mismatch_position(\"(a+b)*(c+d)\"))       # -1\n",
    "print(first_mismatch_position(\"((a+b))(\"))          # 0\n",
    "print(first_mismatch_position(\"(a+b))\"))            # 5\n"
   ]
  },
  {
   "cell_type": "code",
   "execution_count": null,
   "id": "5dbbdd7b",
   "metadata": {},
   "outputs": [
    {
     "name": "stdout",
     "output_type": "stream",
     "text": [
      "Prefix: *+abc\n"
     ]
    }
   ],
   "source": [
    "def balanced_positions(s):\n",
    "    stack = []\n",
    "    balanced = []\n",
    "    for i, char in enumerate(s):\n",
    "        if char == '(':\n",
    "            stack.append(i)\n",
    "        elif char == ')':\n",
    "            if stack:\n",
    "                start = stack.pop()\n",
    "                balanced.append((start, i))  # balanced pair positions\n",
    "    return balanced\n",
    "\n",
    "# Example:\n",
    "print(balanced_positions(\"a+(b*(c+d)) + (e+f)\"))  \n",
    "# Output: [(3, 11), (2, 12), (17, 21)]\n"
   ]
  },
  {
   "cell_type": "code",
   "execution_count": null,
   "id": "972c7656",
   "metadata": {},
   "outputs": [
    {
     "name": "stdout",
     "output_type": "stream",
     "text": [
      "Postfix: ab+c*\n"
     ]
    }
   ],
   "source": [
    "def min_add_to_make_valid(s):\n",
    "    open_count = 0\n",
    "    insertions = 0\n",
    "    for char in s:\n",
    "        if char == '(':\n",
    "            open_count += 1\n",
    "        elif char == ')':\n",
    "            if open_count > 0:\n",
    "                open_count -= 1\n",
    "            else:\n",
    "                insertions += 1\n",
    "    return insertions + open_count\n",
    "\n",
    "# Example:\n",
    "print(min_add_to_make_valid(\"((())\"))     # 1\n",
    "print(min_add_to_make_valid(\"())(()\"))    # 2\n"
   ]
  },
  {
   "cell_type": "code",
   "execution_count": null,
   "id": "987ac6f3",
   "metadata": {},
   "outputs": [
    {
     "name": "stdout",
     "output_type": "stream",
     "text": [
      "20\n"
     ]
    }
   ],
   "source": [
    "def longest_valid_parentheses(s):\n",
    "    stack = [-1]  # base for length calculation\n",
    "    max_len = 0\n",
    "    for i, char in enumerate(s):\n",
    "        if char == '(':\n",
    "            stack.append(i)\n",
    "        else:  # char == ')'\n",
    "            stack.pop()\n",
    "            if not stack:\n",
    "                stack.append(i)\n",
    "            else:\n",
    "                max_len = max(max_len, i - stack[-1])\n",
    "    return max_len\n",
    "\n",
    "# Example:\n",
    "print(longest_valid_parentheses(\"(()\"))         # 2\n",
    "print(longest_valid_parentheses(\")()())\"))      # 4\n"
   ]
  },
  {
   "cell_type": "code",
   "execution_count": null,
   "id": "9f01e24f",
   "metadata": {},
   "outputs": [],
   "source": []
  }
 ],
 "metadata": {
  "kernelspec": {
   "display_name": "Python 3",
   "language": "python",
   "name": "python3"
  },
  "language_info": {
   "codemirror_mode": {
    "name": "ipython",
    "version": 3
   },
   "file_extension": ".py",
   "mimetype": "text/x-python",
   "name": "python",
   "nbconvert_exporter": "python",
   "pygments_lexer": "ipython3",
   "version": "3.12.6"
  }
 },
 "nbformat": 4,
 "nbformat_minor": 5
}
