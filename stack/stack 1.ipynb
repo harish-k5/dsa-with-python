{
 "cells": [
  {
   "cell_type": "code",
   "execution_count": 1,
   "id": "a7f1aa7e",
   "metadata": {},
   "outputs": [
    {
     "name": "stdout",
     "output_type": "stream",
     "text": [
      "Sorted Stack (Top to Bottom):\n",
      "1\n",
      "2\n",
      "3\n",
      "4\n",
      "5\n"
     ]
    }
   ],
   "source": [
    "def sort_stack(stack):\n",
    "    temp_stack = []\n",
    "    while stack:\n",
    "        temp = stack.pop()\n",
    "        while temp_stack and temp_stack[-1] > temp:\n",
    "            stack.append(temp_stack.pop())\n",
    "        temp_stack.append(temp)\n",
    "    while temp_stack:\n",
    "        stack.append(temp_stack.pop())\n",
    "    return stack\n",
    "\n",
    "stack = [3, 5, 1, 4, 2]\n",
    "sorted_stack = sort_stack(stack)\n",
    "print(\"Sorted Stack (Top to Bottom):\")\n",
    "while sorted_stack:\n",
    "    print(sorted_stack.pop())\n"
   ]
  },
  {
   "cell_type": "code",
   "execution_count": null,
   "id": "4cc8f402",
   "metadata": {},
   "outputs": [],
   "source": [
    "\n",
    "class QueueUsingStacks:\n",
    "    def __init__(self):\n",
    "        self.stack1 = []\n",
    "        self.stack2 = []\n",
    "\n",
    "    def enqueue(self, x):\n",
    "        self.stack1.append(x)\n",
    "\n",
    "    def dequeue(self):\n",
    "        if not self.stack2:\n",
    "            while self.stack1:\n",
    "                self.stack2.append(self.stack1.pop())\n",
    "        if not self.stack2:\n",
    "            return \"Queue is empty\"\n",
    "        return self.stack2.pop()\n"
   ]
  },
  {
   "cell_type": "code",
   "execution_count": 3,
   "id": "64082d07",
   "metadata": {},
   "outputs": [],
   "source": [
    "class UndoRedo:\n",
    "    def __init__(self):\n",
    "        self.undo_stack = []\n",
    "        self.redo_stack = []\n",
    "\n",
    "    def do_action(self, action):\n",
    "        self.undo_stack.append(action)\n",
    "        self.redo_stack.clear()\n",
    "\n",
    "    def undo(self):\n",
    "        if not self.undo_stack:\n",
    "            return \"Nothing to undo\"\n",
    "        action = self.undo_stack.pop()\n",
    "        self.redo_stack.append(action)\n",
    "        return action\n",
    "\n",
    "    def redo(self):\n",
    "        if not self.redo_stack:\n",
    "            return \"Nothing to redo\"\n",
    "        action = self.redo_stack.pop()\n",
    "        self.undo_stack.append(action)\n",
    "        return action\n"
   ]
  },
  {
   "cell_type": "code",
   "execution_count": 4,
   "id": "f703ec94",
   "metadata": {},
   "outputs": [],
   "source": [
    "class StackWithMiddle:\n",
    "    def __init__(self):\n",
    "        self.stack = []\n",
    "\n",
    "    def push(self, x):\n",
    "        self.stack.append(x)\n",
    "\n",
    "    def pop(self):\n",
    "        if self.stack:\n",
    "            return self.stack.pop()\n",
    "\n",
    "    def get_middle(self):\n",
    "        if not self.stack:\n",
    "            return \"Stack is empty\"\n",
    "        mid_index = (len(self.stack) - 1) // 2\n",
    "        return self.stack[mid_index]\n"
   ]
  },
  {
   "cell_type": "code",
   "execution_count": 5,
   "id": "fa6ff924",
   "metadata": {},
   "outputs": [],
   "source": [
    "def remove_duplicates(stack):\n",
    "    seen = set()\n",
    "    unique_stack = []\n",
    "    for item in stack:\n",
    "        if item not in seen:\n",
    "            seen.add(item)\n",
    "            unique_stack.append(item)\n",
    "    return unique_stack\n"
   ]
  },
  {
   "cell_type": "code",
   "execution_count": 6,
   "id": "50e843be",
   "metadata": {},
   "outputs": [],
   "source": [
    "from collections import deque\n",
    "\n",
    "class StackUsingQueues:\n",
    "    def __init__(self):\n",
    "        self.q1 = deque()\n",
    "        self.q2 = deque()\n",
    "\n",
    "    def push(self, x):\n",
    "        self.q2.append(x)\n",
    "        while self.q1:\n",
    "            self.q2.append(self.q1.popleft())\n",
    "        self.q1, self.q2 = self.q2, self.q1\n",
    "\n",
    "    def pop(self):\n",
    "        if self.q1:\n",
    "            return self.q1.popleft()\n",
    "\n",
    "    def peek(self):\n",
    "        if self.q1:\n",
    "            return self.q1[0]\n",
    "\n",
    "    def is_empty(self):\n",
    "        return not self.q1\n"
   ]
  },
  {
   "cell_type": "code",
   "execution_count": 7,
   "id": "33cf3aca",
   "metadata": {},
   "outputs": [],
   "source": [
    "def is_palindrome_stack(stack):\n",
    "    return stack == stack[::-1]\n"
   ]
  },
  {
   "cell_type": "code",
   "execution_count": 8,
   "id": "de222a04",
   "metadata": {},
   "outputs": [],
   "source": [
    "def next_greater_element(arr):\n",
    "    result = [-1] * len(arr)\n",
    "    stack = []\n",
    "    for i in range(len(arr)):\n",
    "        while stack and arr[i] > arr[stack[-1]]:\n",
    "            index = stack.pop()\n",
    "            result[index] = arr[i]\n",
    "        stack.append(i)\n",
    "    return result\n"
   ]
  },
  {
   "cell_type": "code",
   "execution_count": 9,
   "id": "c6eb815c",
   "metadata": {},
   "outputs": [],
   "source": [
    "from collections import deque\n",
    "\n",
    "def reverse_queue(q):\n",
    "    stack = []\n",
    "    while q:\n",
    "        stack.append(q.popleft())\n",
    "    while stack:\n",
    "        q.append(stack.pop())\n",
    "    return q\n"
   ]
  },
  {
   "cell_type": "code",
   "execution_count": 10,
   "id": "f83830a2",
   "metadata": {},
   "outputs": [],
   "source": [
    "def remove_less_than_x(stack, x):\n",
    "    result = []\n",
    "    for item in stack:\n",
    "        if item >= x:\n",
    "            result.append(item)\n",
    "    return result\n"
   ]
  },
  {
   "cell_type": "code",
   "execution_count": 12,
   "id": "5631aa63",
   "metadata": {},
   "outputs": [
    {
     "name": "stdout",
     "output_type": "stream",
     "text": [
      "10\n",
      "20\n",
      "30\n",
      "40\n",
      "Queue is empty\n"
     ]
    }
   ],
   "source": [
    "class QueueUsingStacks:\n",
    "    def __init__(self):\n",
    "        self.stack1 = []\n",
    "        self.stack2 = []\n",
    "\n",
    "    def enqueue(self, x):\n",
    "        self.stack1.append(x)\n",
    "\n",
    "    def dequeue(self):\n",
    "        if not self.stack2:\n",
    "            while self.stack1:\n",
    "                self.stack2.append(self.stack1.pop())\n",
    "        if not self.stack2:\n",
    "            return \"Queue is empty\"\n",
    "        return self.stack2.pop()\n",
    "\n",
    "# Example usage\n",
    "queue = QueueUsingStacks()\n",
    "queue.enqueue(10)\n",
    "queue.enqueue(20)\n",
    "queue.enqueue(30)\n",
    "print(queue.dequeue())  # Output: 10\n",
    "print(queue.dequeue())  # Output: 20\n",
    "queue.enqueue(40)\n",
    "print(queue.dequeue())  # Output: 30\n",
    "print(queue.dequeue())  # Output: 40\n",
    "print(queue.dequeue())  # Output: Queue is empty\n"
   ]
  },
  {
   "cell_type": "code",
   "execution_count": 13,
   "id": "bfd4f372",
   "metadata": {},
   "outputs": [
    {
     "name": "stdout",
     "output_type": "stream",
     "text": [
      "Sorted Stack (Top to Bottom):\n",
      "1\n",
      "2\n",
      "3\n",
      "4\n",
      "5\n"
     ]
    }
   ],
   "source": [
    "def sort_stack(stack):\n",
    "    temp_stack = []\n",
    "    while stack:\n",
    "        temp = stack.pop()\n",
    "        while temp_stack and temp_stack[-1] > temp:\n",
    "            stack.append(temp_stack.pop())\n",
    "        temp_stack.append(temp)\n",
    "    while temp_stack:\n",
    "        stack.append(temp_stack.pop())\n",
    "    return stack\n",
    "\n",
    "stack = [3, 5, 1, 4, 2]\n",
    "sorted_stack = sort_stack(stack)\n",
    "print(\"Sorted Stack (Top to Bottom):\")\n",
    "while sorted_stack:\n",
    "    print(sorted_stack.pop())\n"
   ]
  },
  {
   "cell_type": "code",
   "execution_count": 14,
   "id": "eed2a5ad",
   "metadata": {},
   "outputs": [
    {
     "name": "stdout",
     "output_type": "stream",
     "text": [
      "Original String: hello\n",
      "Reversed String: olleh\n"
     ]
    }
   ],
   "source": [
    "def reverse_string_using_stack(input_string):\n",
    "    stack = []\n",
    "    for char in input_string:\n",
    "        stack.append(char)\n",
    "    reversed_string = ''\n",
    "    while stack:\n",
    "        reversed_string += stack.pop()\n",
    "    return reversed_string\n",
    "\n",
    "input_str = \"hello\"\n",
    "reversed_str = reverse_string_using_stack(input_str)\n",
    "print(\"Original String:\", input_str)\n",
    "print(\"Reversed String:\", reversed_str)\n"
   ]
  },
  {
   "cell_type": "code",
   "execution_count": null,
   "id": "5f0ad5c2",
   "metadata": {},
   "outputs": [],
   "source": []
  }
 ],
 "metadata": {
  "kernelspec": {
   "display_name": "Python 3",
   "language": "python",
   "name": "python3"
  },
  "language_info": {
   "codemirror_mode": {
    "name": "ipython",
    "version": 3
   },
   "file_extension": ".py",
   "mimetype": "text/x-python",
   "name": "python",
   "nbconvert_exporter": "python",
   "pygments_lexer": "ipython3",
   "version": "3.12.6"
  }
 },
 "nbformat": 4,
 "nbformat_minor": 5
}
